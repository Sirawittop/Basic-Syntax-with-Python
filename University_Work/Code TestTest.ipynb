{
 "cells": [
  {
   "cell_type": "code",
   "execution_count": 2,
   "id": "80bc22fe",
   "metadata": {},
   "outputs": [
    {
     "name": "stdout",
     "output_type": "stream",
     "text": [
      "sirawit\n"
     ]
    }
   ],
   "source": [
    "'''คำสั่ง ในกีฬาโบว์ลิ่ง ผู้เล่นเริ่มต้นด้วย 10 พินที่ปลายสุดของเลน เป้าหมายคือการทำให้พินทั้งหมดล้มลง สำหรับแบบฝึกหัดนี้ พินจะตั้งเป็นหน้ากระดาน จำนวนพินและจำนวนลูกโบลิ่งก็จะแตกต่างไม่เหมือนกติกาสากล (สากลมี 10 พินและมี 2 ลูกโบลิ่ง)\n",
    "\n",
    "รับค่าบรรทัดแรกเป็นจำนวนพิน N และจำนวนลูกโบลิ่ง B ที่มีตอนเริ่มเกม ตั้งแต่บรรทัดที่สองไป จะเป็นช่วงของหมายเลขของพินที่ล้ม (การโยนหนึ่งครั้ง พินที่ล้มก็จะเป็นช่วง เพราะพินถูกตั้งเป็นหน้ากระดาน)\n",
    "\n",
    "พิจารณาว่าพินใดยังคงตั้งอยู่ หลังจากลูกโบลิ่งทุกลูกถูกโยนไปแล้ว พินมีหมายเลขตั้งแต่ 1 ถึง N (หน้ากระดาน) ให้พิมพ์ลำดับของอักขระ N โดยที่ I แทนพินที่ยังไม่ล้มอยู่และ . แทนพินที่ล้มแล้ว\n",
    "\n",
    "ตัวอย่างอินพุต\n",
    "\n",
    "10 3 # มี 10 พิน (เรียงหน้ากระดาน) มีโบลิ่ง 3 ลูก\n",
    "8 10 # โยนครั้งที่ 1 พิน 8 ถึง 10 ล้ม\n",
    "2 5 # โยนครั้งที่ 2 พิน 2 ถึง 5 ล้ม\n",
    "3 6 # โยนครั้งที่ 3 พิน 3 ถึง 6 ล้ม'''    \n",
    "\n",
    "\n",
    "'''\n",
    "ตัวอย่างเอาต์พุต\n",
    "\n",
    "I.....I... # เหลือลูกที่ 1 และ 7 ตั้งอยู่ นอนนั้นล้มหมด\n",
    "\n",
    "'''"
   ]
  },
  {
   "cell_type": "code",
   "execution_count": 11,
   "id": "3ff3cb93",
   "metadata": {
    "scrolled": true
   },
   "outputs": [
    {
     "name": "stdout",
     "output_type": "stream",
     "text": [
      "10 3\n",
      "['I', 'I', 'I', 'I', 'I', 'I', 'I', 'I', 'I', 'I']\n",
      "8 10\n",
      "['I', 'I', 'I', 'I', 'I', 'I', 'I', '.', '.', '.']\n",
      "2 5\n",
      "['I', '.', '.', '.', '.', 'I', 'I', '.', '.', '.']\n",
      "3 6\n",
      "['I', '.', '.', '.', '.', '.', 'I', '.', '.', '.']\n",
      "I.....I..."
     ]
    }
   ],
   "source": [
    "N, B = [int(e) for e in input().split()]\n",
    "BBBB = []\n",
    "for jj in range(N):\n",
    "    BBBB.append(\"I\")\n",
    "print(BBBB)\n",
    "for i in range(B):\n",
    "    a , c= [int(k) for k in input().split()]\n",
    "    BBBB[a-1:c] = [\".\"]*(c-a+1)\n",
    "    print(BBBB)\n",
    "for aaa in range(len(BBBB)):\n",
    "    print(BBBB[aaa],end = \"\")"
   ]
  },
  {
   "cell_type": "code",
   "execution_count": 12,
   "id": "905ab005",
   "metadata": {},
   "outputs": [
    {
     "name": "stdout",
     "output_type": "stream",
     "text": [
      "10\n",
      "10\n",
      "10\n"
     ]
    }
   ],
   "source": [
    "a = [int(i) for i in input().split()]\n",
    "k = int(input())\n",
    "a = a[:k]+a[k+1:]\n",
    "print(' '.join([str(i) for i in a]))\n",
    "\n"
   ]
  },
  {
   "cell_type": "code",
   "execution_count": null,
   "id": "e6776acd",
   "metadata": {},
   "outputs": [],
   "source": []
  }
 ],
 "metadata": {
  "kernelspec": {
   "display_name": "Python 3 (ipykernel)",
   "language": "python",
   "name": "python3"
  },
  "language_info": {
   "codemirror_mode": {
    "name": "ipython",
    "version": 3
   },
   "file_extension": ".py",
   "mimetype": "text/x-python",
   "name": "python",
   "nbconvert_exporter": "python",
   "pygments_lexer": "ipython3",
   "version": "3.9.13"
  }
 },
 "nbformat": 4,
 "nbformat_minor": 5
}
