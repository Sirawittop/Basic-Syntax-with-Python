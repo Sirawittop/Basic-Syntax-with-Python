{
 "cells": [
  {
   "cell_type": "code",
   "execution_count": 3,
   "id": "4f3793ef",
   "metadata": {},
   "outputs": [
    {
     "name": "stdout",
     "output_type": "stream",
     "text": [
      "[2, 3, 5, 7, 11, 13]\n",
      "['Red', 'Orange', 'Yellow', 'Green', 'Blue', 'Indigo', 'Violet']\n"
     ]
    }
   ],
   "source": [
    "Primes = [2, 3, 5, 7, 11, 13]\n",
    "Rainbow = ['Red', 'Orange', 'Yellow', 'Green', 'Blue', 'Indigo', 'Violet']\n",
    "\n",
    "print(Primes)\n",
    "print(Rainbow)"
   ]
  },
  {
   "cell_type": "code",
   "execution_count": 7,
   "id": "c41f5caf",
   "metadata": {},
   "outputs": [
    {
     "name": "stdout",
     "output_type": "stream",
     "text": [
      "7\n"
     ]
    }
   ],
   "source": [
    "Primes = [2, 3, 5, 7, 11, 13]\n",
    "Rainbow = ['Red', 'Orange', 'Yellow', 'Green', 'Blue', 'Indigo', 'Violet']\n",
    "print(Primes[-3])"
   ]
  },
  {
   "cell_type": "code",
   "execution_count": 8,
   "id": "7bf90099",
   "metadata": {},
   "outputs": [
    {
     "name": "stdout",
     "output_type": "stream",
     "text": [
      "6\n"
     ]
    }
   ],
   "source": [
    "primes = [2, 3, 5, 7, 11, 13]\n",
    "print(len(primes))"
   ]
  },
  {
   "cell_type": "code",
   "execution_count": 9,
   "id": "c5ac35e9",
   "metadata": {},
   "outputs": [
    {
     "name": "stdout",
     "output_type": "stream",
     "text": [
      "Red\n",
      "And now print the rainbow!\n",
      "red\n",
      "Orange\n",
      "Yellow\n",
      "Green\n",
      "Blue\n",
      "Indigo\n",
      "Violet\n"
     ]
    }
   ],
   "source": [
    "Rainbow = ['Red', 'Orange', 'Yellow', 'Green', 'Blue', 'Indigo', 'Violet']\n",
    "print(Rainbow[0])\n",
    "Rainbow[0] = 'red'\n",
    "print('And now print the rainbow!')\n",
    "for i in range(len(Rainbow)):\n",
    "    print(Rainbow[i])"
   ]
  },
  {
   "cell_type": "code",
   "execution_count": 10,
   "id": "6795d56e",
   "metadata": {},
   "outputs": [
    {
     "name": "stdout",
     "output_type": "stream",
     "text": [
      "12\n",
      "12\n",
      "21\n",
      "21\n",
      "21\n",
      "21\n",
      "21\n",
      "231\n",
      "321\n",
      "321\n",
      "231\n",
      "23\n",
      "132\n",
      "[12, 21, 21, 21, 21, 21, 231, 321, 321, 231, 23, 132]\n"
     ]
    }
   ],
   "source": [
    "a = []\n",
    "n = int(input())\n",
    "for i in range(n):\n",
    "    new_element = int(input())\n",
    "    a.append(new_element) \n",
    "print(a)"
   ]
  },
  {
   "cell_type": "code",
   "execution_count": 11,
   "id": "4632f533",
   "metadata": {},
   "outputs": [
    {
     "name": "stdout",
     "output_type": "stream",
     "text": [
      "4\n",
      "1\n",
      "2\n",
      "3\n",
      "4\n",
      "[1, 2, 3, 4]\n"
     ]
    }
   ],
   "source": [
    "a = []\n",
    "for i in range(int(input())):\n",
    "    a.append(int(input()))\n",
    "print(a)"
   ]
  },
  {
   "cell_type": "code",
   "execution_count": 12,
   "id": "817c1b5a",
   "metadata": {},
   "outputs": [
    {
     "name": "stdout",
     "output_type": "stream",
     "text": [
      "[7, 8, 9]\n",
      "[0, 1, 0, 1, 0, 1]\n",
      "[1, 2, 3, 4, 5]\n",
      "[4, 5, 4, 5, 4, 5]\n"
     ]
    }
   ],
   "source": [
    "a = [1, 2, 3]\n",
    "b = [4, 5]\n",
    "c = a + b\n",
    "d = b * 3\n",
    "print([7, 8] + [9])\n",
    "print([0, 1] * 3)\n",
    "print(c)\n",
    "print(d)"
   ]
  },
  {
   "cell_type": "code",
   "execution_count": 13,
   "id": "13422bcf",
   "metadata": {},
   "outputs": [
    {
     "name": "stdout",
     "output_type": "stream",
     "text": [
      "3\n",
      "1\n",
      "2\n",
      "3\n",
      "[1, 2, 3]\n"
     ]
    }
   ],
   "source": [
    "a = [0] * int(input())\n",
    "for i in range(len(a)):\n",
    "    a[i] = int(input())\n",
    "print(a)"
   ]
  },
  {
   "cell_type": "code",
   "execution_count": 14,
   "id": "bd6bc05f",
   "metadata": {},
   "outputs": [
    {
     "name": "stdout",
     "output_type": "stream",
     "text": [
      "[1, 2, 5, 9, 7]\n"
     ]
    }
   ],
   "source": [
    "# รับค่า s = 'ab12c59p7dq'\n",
    "# คุณต้องแยกตัวเลขออกจากสตริง s\n",
    "# เพื่อที่จะทำเช่นนั้น ต้องสร้างลิสต์ และดึงตัวเลขออกประมาณนี้\n",
    "# digits == [1, 2, 5, 9, 7]\n",
    "\n",
    "s = 'ab12c59p7dq'\n",
    "digits = []\n",
    "for symbol in s:\n",
    "    if '1234567890'.find(symbol) != -1:\n",
    "        digits.append(int(symbol))\n",
    "print(digits)\n"
   ]
  },
  {
   "cell_type": "code",
   "execution_count": 25,
   "id": "e76fc7d4",
   "metadata": {},
   "outputs": [
    {
     "name": "stdout",
     "output_type": "stream",
     "text": [
      "1 2 3\n",
      "[1, 2, 3]\n"
     ]
    }
   ],
   "source": [
    "# อินพุต\n",
    "# 1 2 3\n",
    "s = input() # s = '1 2 3'\n",
    "a = s.split() # a = ['1', '2', '3']\n",
    "x = []\n",
    "for i in range(len(a)):\n",
    "    x.append(int(a[i]))\n",
    "    \n",
    "print(x)"
   ]
  },
  {
   "cell_type": "code",
   "execution_count": null,
   "id": "80a3a78e",
   "metadata": {},
   "outputs": [],
   "source": []
  }
 ],
 "metadata": {
  "kernelspec": {
   "display_name": "Python 3 (ipykernel)",
   "language": "python",
   "name": "python3"
  },
  "language_info": {
   "codemirror_mode": {
    "name": "ipython",
    "version": 3
   },
   "file_extension": ".py",
   "mimetype": "text/x-python",
   "name": "python",
   "nbconvert_exporter": "python",
   "pygments_lexer": "ipython3",
   "version": "3.9.13"
  }
 },
 "nbformat": 4,
 "nbformat_minor": 5
}
