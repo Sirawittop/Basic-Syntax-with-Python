{
 "cells": [
  {
   "cell_type": "code",
   "execution_count": 3,
   "id": "b6946e34",
   "metadata": {},
   "outputs": [
    {
     "name": "stdout",
     "output_type": "stream",
     "text": [
      "santoeuh\n",
      "No man is an island\n",
      "Who is John Galt?\n",
      "santoeuh\n"
     ]
    }
   ],
   "source": [
    "a = 'No man is an island'\n",
    "b = \"Who is John Galt?\"\n",
    "your_string = input()\n",
    "\n",
    "print(a)\n",
    "print(b)\n",
    "print(your_string)"
   ]
  },
  {
   "cell_type": "code",
   "execution_count": 5,
   "id": "ab622320",
   "metadata": {},
   "outputs": [
    {
     "name": "stdout",
     "output_type": "stream",
     "text": [
      ">_<  >_<  >_<  >_<  >_<  \n"
     ]
    }
   ],
   "source": [
    "print('>_<  ' * 5)"
   ]
  },
  {
   "cell_type": "code",
   "execution_count": 6,
   "id": "701d5fa2",
   "metadata": {},
   "outputs": [
    {
     "name": "stdout",
     "output_type": "stream",
     "text": [
      "26\n"
     ]
    }
   ],
   "source": [
    "print(len('abcdefghijklmnopqrstuvwxyz'))"
   ]
  },
  {
   "cell_type": "code",
   "execution_count": 7,
   "id": "0214ecdd",
   "metadata": {},
   "outputs": [
    {
     "name": "stdout",
     "output_type": "stream",
     "text": [
      "1267650600228229401496703205376\n",
      "31\n"
     ]
    }
   ],
   "source": [
    "s = str(2 ** 100)\n",
    "print(s)\n",
    "print(len(s))"
   ]
  },
  {
   "cell_type": "code",
   "execution_count": 8,
   "id": "58cf00ab",
   "metadata": {},
   "outputs": [
    {
     "name": "stdout",
     "output_type": "stream",
     "text": [
      "H\n",
      "e\n",
      "l\n",
      "l\n",
      "o\n"
     ]
    }
   ],
   "source": [
    "S = 'Hello'\n",
    "\n",
    "print(S[0])\n",
    "print(S[1])\n",
    "print(S[2])\n",
    "print(S[3])\n",
    "print(S[4])"
   ]
  },
  {
   "cell_type": "code",
   "execution_count": 10,
   "id": "30a5062d",
   "metadata": {},
   "outputs": [
    {
     "name": "stdout",
     "output_type": "stream",
     "text": [
      "o\n",
      "l\n",
      "l\n",
      "e\n",
      "H\n"
     ]
    }
   ],
   "source": [
    "S = 'Hello'\n",
    "\n",
    "print(S[-1])\n",
    "print(S[-2])\n",
    "print(S[-3])\n",
    "print(S[-4])\n",
    "print(S[-5])\n"
   ]
  },
  {
   "cell_type": "code",
   "execution_count": 18,
   "id": "1150e624",
   "metadata": {},
   "outputs": [
    {
     "name": "stdout",
     "output_type": "stream",
     "text": [
      "22\n",
      "21\n",
      "r\n"
     ]
    }
   ],
   "source": [
    "s = \"work hard, play harder\"\n",
    "print(len(s))\n",
    "print(len(s)-1)\n",
    "print(s[-1])"
   ]
  },
  {
   "cell_type": "code",
   "execution_count": 19,
   "id": "544b1c57",
   "metadata": {},
   "outputs": [
    {
     "name": "stdout",
     "output_type": "stream",
     "text": [
      "ell\n",
      "ell\n",
      "ell\n"
     ]
    }
   ],
   "source": [
    "s = 'Hello'\n",
    "print(s[1:4])\n",
    "print(s[-4:-1])\n",
    "print(s[1:-1])"
   ]
  },
  {
   "cell_type": "code",
   "execution_count": 20,
   "id": "0d5dcfc1",
   "metadata": {},
   "outputs": [
    {
     "name": "stdout",
     "output_type": "stream",
     "text": [
      "ello\n",
      "ello\n",
      "ello\n",
      "Hell\n",
      "Hello\n"
     ]
    }
   ],
   "source": [
    "s = 'Hello'\n",
    "print(s[1:5])\n",
    "print(s[1:100])\n",
    "print(s[1:])\n",
    "print(s[:-1])\n",
    "print(s[:])"
   ]
  },
  {
   "cell_type": "code",
   "execution_count": 21,
   "id": "597621bb",
   "metadata": {},
   "outputs": [
    {
     "name": "stdout",
     "output_type": "stream",
     "text": [
      "Hello\n",
      "ll\n"
     ]
    }
   ],
   "source": [
    "s = 'Hello'\n",
    "t = s          # s และ t ชี้ไปที่สตริงเดียวกัน\n",
    "t = s[2:4]  # ตอนนี้ t ชี้ไปที่สตริงใหม่ เก็บค่า 'll'\n",
    "print(s)      # พิมพ์ 'Hello' ตามค่า s ซึ่งเป็นค่าเดิม\n",
    "print(t)     # พิมพ์ 'll' ตามค่า t ที่เปลี่ยนไป"
   ]
  },
  {
   "cell_type": "code",
   "execution_count": 22,
   "id": "dc0aab20",
   "metadata": {},
   "outputs": [
    {
     "name": "stdout",
     "output_type": "stream",
     "text": [
      "acegi\n",
      "0 a\n",
      "2 c\n",
      "4 e\n",
      "6 g\n",
      "8 i\n"
     ]
    }
   ],
   "source": [
    "s = 'abcdefghijklm'\n",
    "\n",
    "print(s[0:10:2])\n",
    "\n",
    "for i in range(0, 10, 2):\n",
    "    print(i, s[i])"
   ]
  },
  {
   "cell_type": "code",
   "execution_count": 23,
   "id": "efa9e71f",
   "metadata": {},
   "outputs": [
    {
     "name": "stdout",
     "output_type": "stream",
     "text": [
      "1\n",
      "2\n",
      "-1\n"
     ]
    }
   ],
   "source": [
    "s = 'Hello'\n",
    "print(s.find('e'))\n",
    "# นี่จะออกมาเป็น 1\n",
    "print(s.find('ll'))\n",
    "# และนี่จะออกมาเป็น 2\n",
    "print(s.find('L'))\n",
    "# และนี่จะออกมาเป็น -1"
   ]
  },
  {
   "cell_type": "code",
   "execution_count": 25,
   "id": "3fe188d8",
   "metadata": {},
   "outputs": [
    {
     "name": "stdout",
     "output_type": "stream",
     "text": [
      "1\n",
      "8\n"
     ]
    }
   ],
   "source": [
    "s = 'abracadabra'\n",
    "print(s.find('b'))\n",
    "print(s.rfind('b'))"
   ]
  },
  {
   "cell_type": "code",
   "execution_count": 27,
   "id": "93f12322",
   "metadata": {},
   "outputs": [
    {
     "name": "stdout",
     "output_type": "stream",
     "text": [
      "11\n",
      "23\n"
     ]
    }
   ],
   "source": [
    "s = 'my name is bond, james bond, okay?'\n",
    "print(s.find('bond'))\n",
    "print(s.find('bond', 12))"
   ]
  },
  {
   "cell_type": "code",
   "execution_count": 28,
   "id": "b7f48e30",
   "metadata": {},
   "outputs": [
    {
     "name": "stdout",
     "output_type": "stream",
     "text": [
      "a pub is a pub, essentially\n"
     ]
    }
   ],
   "source": [
    "print('a bar is a bar, essentially'.replace('bar', 'pub'))"
   ]
  },
  {
   "cell_type": "code",
   "execution_count": 29,
   "id": "426d9f48",
   "metadata": {},
   "outputs": [
    {
     "name": "stdout",
     "output_type": "stream",
     "text": [
      "a pub is a bar, essentially\n"
     ]
    }
   ],
   "source": [
    "print('a bar is a bar, essentially'.replace('bar', 'pub', 1))\n"
   ]
  },
  {
   "cell_type": "code",
   "execution_count": 32,
   "id": "2eedc8ee",
   "metadata": {},
   "outputs": [
    {
     "name": "stdout",
     "output_type": "stream",
     "text": [
      "a pub is a bar, essentially\n"
     ]
    }
   ],
   "source": [
    "print('a bar is a bar, essentially'.replace('bar', 'pub', 1))\n"
   ]
  },
  {
   "cell_type": "code",
   "execution_count": 33,
   "id": "cdff80e6",
   "metadata": {},
   "outputs": [
    {
     "name": "stdout",
     "output_type": "stream",
     "text": [
      "4\n",
      "5\n"
     ]
    }
   ],
   "source": [
    "print('Abracadabra'.count('a'))\n",
    "# อันนี้จะออกมาเป็น '4'\n",
    "\n",
    "print(('aaaaaaaaaa').count('aa'))\n",
    "# และอันนี้จะออกมาเป็น '5'"
   ]
  },
  {
   "cell_type": "code",
   "execution_count": 34,
   "id": "357bcbc7",
   "metadata": {},
   "outputs": [
    {
     "name": "stdout",
     "output_type": "stream",
     "text": [
      "4\n"
     ]
    }
   ],
   "source": [
    "print('A sailor went to sea to see what he could see, but all he could have see, was sea, sea, sea'.count('se', 25, -3))\n",
    "\n",
    "# ฟังก์ชัน count() จะคำนวณสไลซ์ [25:-3]\n",
    "# สไลซ์ [25:-3] ของ\n",
    "# 'A sailor went to sea to see what he could see, but all he could have see, was sea, sea, sea'\n",
    "# เท่ากับ\n",
    "# 'ee what he could see, but all he could have see, was sea, sea, '\n",
    "# จากนั้นฟังก์ชั่น count() จะพบการเกิดขึ้นของ 'se' ในสตริงผลลัพธ์ มีเพียงสี่เหตุการณ์ดังกล่าว\n",
    "# มันจะพิมพ์ '4'"
   ]
  },
  {
   "cell_type": "code",
   "execution_count": 42,
   "id": "1f47964c",
   "metadata": {},
   "outputs": [
    {
     "name": "stdout",
     "output_type": "stream",
     "text": [
      "asdfghjklzxcv\n",
      "d\n",
      "c\n",
      "asdfg\n",
      "asdfghjklzx\n",
      "adgjlxv\n",
      "sfhkzc\n",
      "vcxzlkjhgfdsa\n",
      "vxljgda\n",
      "13\n"
     ]
    }
   ],
   "source": [
    "    s = input()\n",
    "    print(s[2])\n",
    "    print(s[-2])\n",
    "    print(s[:5])\n",
    "    print(s[:-2])\n",
    "    print(s[::2])\n",
    "    print(s[1::2])\n",
    "    print(s[::-1])          \n",
    "    print(s[::-2])        \n",
    "    print(len(s))"
   ]
  },
  {
   "cell_type": "code",
   "execution_count": 51,
   "id": "0b82513e",
   "metadata": {},
   "outputs": [
    {
     "name": "stdout",
     "output_type": "stream",
     "text": [
      "uahtnoe aoenthus\n",
      "2\n"
     ]
    }
   ],
   "source": [
    "s = input()\n",
    "print(s.count(\" \")+1)"
   ]
  },
  {
   "cell_type": "code",
   "execution_count": 65,
   "id": "7bffbcbb",
   "metadata": {},
   "outputs": [
    {
     "name": "stdout",
     "output_type": "stream",
     "text": [
      "Hello\n",
      "3\n",
      "loHel\n"
     ]
    }
   ],
   "source": [
    "#รับค่าสตริง ตัดออกเป็นสองส่วน \"เท่าๆกัน\" (หากความยาวของสตริงเป็นเลขคี่ ให้เอาอักขระตรงกลางไว้ในสตริงแรก เพื่อให้สตริงแรกมีอักขระมากกว่าอักขระที่สองอยู่หนึ่งตัว)\n",
    "#พิมพ์สตริงใหม่ในแถวเดียวโดยสลับครึ่งแรกและครึ่งหลัง (ครึ่งหลังไว้หน้าและครึ่งแรกไว้หลัง)\n",
    "from math import ceil\n",
    "s = input()\n",
    "a = ceil(len(s)/2)\n",
    "xx = s[:a]\n",
    "xx2 = s[a:]\n",
    "print(xx2+xx)"
   ]
  },
  {
   "cell_type": "code",
   "execution_count": 4,
   "id": "c093a263",
   "metadata": {},
   "outputs": [
    {
     "name": "stdout",
     "output_type": "stream",
     "text": [
      "aoeu eoauu\n",
      "['aoeu', 'eoauu']\n",
      "eoauu aoeu\n"
     ]
    }
   ],
   "source": [
    "s = input().split(\" \")\n",
    "print(s)\n",
    "print(s[1],s[0])"
   ]
  },
  {
   "cell_type": "code",
   "execution_count": 9,
   "id": "f5c8f1dd",
   "metadata": {},
   "outputs": [
    {
     "name": "stdout",
     "output_type": "stream",
     "text": [
      "aaaaaaaaaaaaaaaaaaaaaaaaffaaaaaaaaaaaaaaaaaaaa\n",
      "24 25\n"
     ]
    }
   ],
   "source": [
    "s = input()\n",
    "if s.find(\"f\") != -1:\n",
    "    if s.find(\"f\") != s.rfind(\"f\"):\n",
    "        print(s.find(\"f\"),s.rfind(\"f\"))\n",
    "    else:\n",
    "        print(s.find(\"f\"))"
   ]
  },
  {
   "cell_type": "code",
   "execution_count": 13,
   "id": "e30fa6d0",
   "metadata": {},
   "outputs": [
    {
     "name": "stdout",
     "output_type": "stream",
     "text": [
      "aonehtuaoeufaoeuaoeuf\n",
      "20\n"
     ]
    }
   ],
   "source": [
    "s = input()\n",
    "if s.find(\"f\") != s.rfind(\"f\"):\n",
    "    print(s.rfind(\"f\",2))\n",
    "elif s.find(\"f\")!= -1:\n",
    "    print(-1)\n",
    "else:\n",
    "    print(-2)"
   ]
  },
  {
   "cell_type": "code",
   "execution_count": null,
   "id": "07e26c5b",
   "metadata": {},
   "outputs": [],
   "source": []
  }
 ],
 "metadata": {
  "kernelspec": {
   "display_name": "Python 3 (ipykernel)",
   "language": "python",
   "name": "python3"
  },
  "language_info": {
   "codemirror_mode": {
    "name": "ipython",
    "version": 3
   },
   "file_extension": ".py",
   "mimetype": "text/x-python",
   "name": "python",
   "nbconvert_exporter": "python",
   "pygments_lexer": "ipython3",
   "version": "3.9.13"
  }
 },
 "nbformat": 4,
 "nbformat_minor": 5
}
